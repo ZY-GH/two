{
 "cells": [
  {
   "cell_type": "code",
   "execution_count": 1,
   "metadata": {},
   "outputs": [],
   "source": [
    "str = 'hello,world'"
   ]
  },
  {
   "cell_type": "code",
   "execution_count": 3,
   "metadata": {},
   "outputs": [
    {
     "name": "stdout",
     "output_type": "stream",
     "text": [
      "Hello,World\n"
     ]
    }
   ],
   "source": [
    "print(str.title())"
   ]
  },
  {
   "cell_type": "code",
   "execution_count": 4,
   "metadata": {},
   "outputs": [
    {
     "name": "stdout",
     "output_type": "stream",
     "text": [
      "HELLO,WORLD\n"
     ]
    }
   ],
   "source": [
    "print(str.upper())"
   ]
  },
  {
   "cell_type": "code",
   "execution_count": 5,
   "metadata": {},
   "outputs": [
    {
     "name": "stdout",
     "output_type": "stream",
     "text": [
      "hello,zy\n"
     ]
    }
   ],
   "source": [
    "str = 'hello,'\n",
    "name = 'zy'\n",
    "print(str +name)"
   ]
  },
  {
   "cell_type": "code",
   "execution_count": 6,
   "metadata": {},
   "outputs": [
    {
     "data": {
      "text/plain": [
       "'zhello,y'"
      ]
     },
     "execution_count": 6,
     "metadata": {},
     "output_type": "execute_result"
    }
   ],
   "source": [
    "str.join(name)"
   ]
  },
  {
   "cell_type": "code",
   "execution_count": 7,
   "metadata": {},
   "outputs": [
    {
     "name": "stdout",
     "output_type": "stream",
     "text": [
      "1 + 2 + 3 + 4 + 5\n"
     ]
    }
   ],
   "source": [
    "number = '12345'\n",
    "print(' + '.join(number))"
   ]
  },
  {
   "cell_type": "code",
   "execution_count": 8,
   "metadata": {},
   "outputs": [
    {
     "data": {
      "text/plain": [
       "'Hello, world.'"
      ]
     },
     "execution_count": 8,
     "metadata": {},
     "output_type": "execute_result"
    }
   ],
   "source": [
    "'Hello, %s'%'world.'"
   ]
  },
  {
   "cell_type": "code",
   "execution_count": 9,
   "metadata": {},
   "outputs": [
    {
     "name": "stdout",
     "output_type": "stream",
     "text": [
      "Hello, world.\n"
     ]
    }
   ],
   "source": [
    "print('Hello, %s'%'world.')"
   ]
  },
  {
   "cell_type": "code",
   "execution_count": 11,
   "metadata": {},
   "outputs": [
    {
     "name": "stdout",
     "output_type": "stream",
     "text": [
      "9 = 3 * 3\n",
      "9 = 3 * 3\n"
     ]
    }
   ],
   "source": [
    "x = 3\n",
    "print('{} = {} * {}'.format(x*x,x,x))\n",
    "print('{1} = {0} * {0}'.format(x,x*x))"
   ]
  },
  {
   "cell_type": "code",
   "execution_count": 12,
   "metadata": {},
   "outputs": [
    {
     "name": "stdout",
     "output_type": "stream",
     "text": [
      "my name is zy,my age is 24\n",
      "my name is zy,my age is 24\n"
     ]
    }
   ],
   "source": [
    "print('my name is {name},my age is {age}'.format(name='zy',age=24))\n",
    "name = 'zy'\n",
    "age = 24\n",
    "print(f'my name is {name},my age is {age}')"
   ]
  },
  {
   "cell_type": "code",
   "execution_count": 13,
   "metadata": {},
   "outputs": [
    {
     "data": {
      "text/plain": [
       "'***hello***'"
      ]
     },
     "execution_count": 13,
     "metadata": {},
     "output_type": "execute_result"
    }
   ],
   "source": [
    "\"hello\".center(11,'*')"
   ]
  },
  {
   "cell_type": "code",
   "execution_count": 16,
   "metadata": {},
   "outputs": [
    {
     "name": "stdout",
     "output_type": "stream",
     "text": [
      "****************************************\n",
      "*             Hello,world              *\n",
      "****************************************\n"
     ]
    }
   ],
   "source": [
    "print('*'*40)\n",
    "print('Hello,world'.center(38).center(40,'*'))\n",
    "print('*'*40)"
   ]
  },
  {
   "cell_type": "code",
   "execution_count": 17,
   "metadata": {},
   "outputs": [
    {
     "data": {
      "text/plain": [
       "'Hello'"
      ]
     },
     "execution_count": 17,
     "metadata": {},
     "output_type": "execute_result"
    }
   ],
   "source": [
    "'hello'.replace('h','H')"
   ]
  },
  {
   "cell_type": "code",
   "execution_count": 18,
   "metadata": {},
   "outputs": [
    {
     "data": {
      "text/plain": [
       "'Hello,zy'"
      ]
     },
     "execution_count": 18,
     "metadata": {},
     "output_type": "execute_result"
    }
   ],
   "source": [
    "'Hello,#name#'.replace('#name#','zy')"
   ]
  },
  {
   "cell_type": "code",
   "execution_count": 20,
   "metadata": {},
   "outputs": [
    {
     "name": "stdout",
     "output_type": "stream",
     "text": [
      "please input a namezhangsan\n",
      "100\n"
     ]
    }
   ],
   "source": [
    "names = ['zhangsan','lisi','wangwu','maliu']\n",
    "scores = [100, 90, 80, 70]\n",
    "name = input('please input a name')\n",
    "print(scores[names.index(name)])"
   ]
  },
  {
   "cell_type": "code",
   "execution_count": 22,
   "metadata": {},
   "outputs": [
    {
     "name": "stdout",
     "output_type": "stream",
     "text": [
      "please input a namelisi\n",
      "90\n"
     ]
    }
   ],
   "source": [
    "scores = {'zhangsan':100, 'lisi':90, 'wangwu':80, 'maliu':70}\n",
    "name = input('please input a name')\n",
    "print(scores[name])"
   ]
  },
  {
   "cell_type": "code",
   "execution_count": 23,
   "metadata": {},
   "outputs": [],
   "source": [
    "scores = {}\n",
    "scores = dict()\n",
    "scores['zhangsan'] = 100 "
   ]
  },
  {
   "cell_type": "code",
   "execution_count": 24,
   "metadata": {},
   "outputs": [
    {
     "data": {
      "text/plain": [
       "{'zhangsan': 100}"
      ]
     },
     "execution_count": 24,
     "metadata": {},
     "output_type": "execute_result"
    }
   ],
   "source": [
    "scores"
   ]
  },
  {
   "cell_type": "code",
   "execution_count": 25,
   "metadata": {},
   "outputs": [
    {
     "data": {
      "text/plain": [
       "100"
      ]
     },
     "execution_count": 25,
     "metadata": {},
     "output_type": "execute_result"
    }
   ],
   "source": [
    "scores['zhangsan']"
   ]
  },
  {
   "cell_type": "code",
   "execution_count": 26,
   "metadata": {},
   "outputs": [
    {
     "ename": "KeyError",
     "evalue": "'lisi'",
     "output_type": "error",
     "traceback": [
      "\u001b[0;31m---------------------------------------------------------------------------\u001b[0m",
      "\u001b[0;31mKeyError\u001b[0m                                  Traceback (most recent call last)",
      "\u001b[0;32m<ipython-input-26-fefb110c0198>\u001b[0m in \u001b[0;36m<module>\u001b[0;34m\u001b[0m\n\u001b[0;32m----> 1\u001b[0;31m \u001b[0mscores\u001b[0m\u001b[0;34m[\u001b[0m\u001b[0;34m'lisi'\u001b[0m\u001b[0;34m]\u001b[0m\u001b[0;34m\u001b[0m\u001b[0;34m\u001b[0m\u001b[0m\n\u001b[0m",
      "\u001b[0;31mKeyError\u001b[0m: 'lisi'"
     ]
    }
   ],
   "source": [
    "scores['lisi']"
   ]
  },
  {
   "cell_type": "code",
   "execution_count": 27,
   "metadata": {},
   "outputs": [
    {
     "data": {
      "text/plain": [
       "True"
      ]
     },
     "execution_count": 27,
     "metadata": {},
     "output_type": "execute_result"
    }
   ],
   "source": [
    "'zhangsan' in scores"
   ]
  },
  {
   "cell_type": "code",
   "execution_count": 28,
   "metadata": {},
   "outputs": [
    {
     "data": {
      "text/plain": [
       "False"
      ]
     },
     "execution_count": 28,
     "metadata": {},
     "output_type": "execute_result"
    }
   ],
   "source": [
    "'lisi' in scores"
   ]
  },
  {
   "cell_type": "code",
   "execution_count": 29,
   "metadata": {},
   "outputs": [
    {
     "name": "stdout",
     "output_type": "stream",
     "text": [
      "please input a namelisi\n",
      "Name not found.\n"
     ]
    }
   ],
   "source": [
    "name = input('please input a name')\n",
    "if name in scores:\n",
    "    print(scores[name])\n",
    "else:\n",
    "    print('Name not found.')"
   ]
  },
  {
   "cell_type": "code",
   "execution_count": 30,
   "metadata": {},
   "outputs": [],
   "source": [
    "del scores['zhangsan']"
   ]
  },
  {
   "cell_type": "code",
   "execution_count": 31,
   "metadata": {},
   "outputs": [
    {
     "data": {
      "text/plain": [
       "{}"
      ]
     },
     "execution_count": 31,
     "metadata": {},
     "output_type": "execute_result"
    }
   ],
   "source": [
    "scores"
   ]
  },
  {
   "cell_type": "code",
   "execution_count": 32,
   "metadata": {},
   "outputs": [],
   "source": [
    "scores['lisi'] = 90\n",
    "scores['lisi'] = 80"
   ]
  },
  {
   "cell_type": "code",
   "execution_count": 33,
   "metadata": {},
   "outputs": [
    {
     "data": {
      "text/plain": [
       "{'lisi': 80}"
      ]
     },
     "execution_count": 33,
     "metadata": {},
     "output_type": "execute_result"
    }
   ],
   "source": [
    "scores"
   ]
  },
  {
   "cell_type": "code",
   "execution_count": 34,
   "metadata": {},
   "outputs": [
    {
     "data": {
      "text/plain": [
       "{'lisi': 80}"
      ]
     },
     "execution_count": 34,
     "metadata": {},
     "output_type": "execute_result"
    }
   ],
   "source": [
    "s2 = scores\n",
    "s2"
   ]
  },
  {
   "cell_type": "code",
   "execution_count": 35,
   "metadata": {},
   "outputs": [],
   "source": [
    "s2['zhangsan'] = 100"
   ]
  },
  {
   "cell_type": "code",
   "execution_count": 36,
   "metadata": {},
   "outputs": [
    {
     "data": {
      "text/plain": [
       "{'lisi': 80, 'zhangsan': 100}"
      ]
     },
     "execution_count": 36,
     "metadata": {},
     "output_type": "execute_result"
    }
   ],
   "source": [
    "scores"
   ]
  },
  {
   "cell_type": "code",
   "execution_count": 37,
   "metadata": {},
   "outputs": [],
   "source": [
    "scores = {}.fromkeys(['zhangsan','lisi','wangwu','maliu'],100)"
   ]
  },
  {
   "cell_type": "code",
   "execution_count": 38,
   "metadata": {},
   "outputs": [
    {
     "data": {
      "text/plain": [
       "{'zhangsan': 100, 'lisi': 100, 'wangwu': 100, 'maliu': 100}"
      ]
     },
     "execution_count": 38,
     "metadata": {},
     "output_type": "execute_result"
    }
   ],
   "source": [
    "scores"
   ]
  },
  {
   "cell_type": "code",
   "execution_count": 40,
   "metadata": {},
   "outputs": [
    {
     "name": "stdout",
     "output_type": "stream",
     "text": [
      "{'a': 2, 'e': 5, 'i': 5, 'o': 1, 'u': 0}\n"
     ]
    }
   ],
   "source": [
    "str = 'hello, this is a test. I designed this test last night.'\n",
    "count = dict.fromkeys('aeiou',0)\n",
    "for ch in str:\n",
    "    if ch in 'aeiou':\n",
    "        count[ch] += 1\n",
    "print(count)"
   ]
  },
  {
   "cell_type": "code",
   "execution_count": 41,
   "metadata": {},
   "outputs": [
    {
     "name": "stdout",
     "output_type": "stream",
     "text": [
      "None\n"
     ]
    }
   ],
   "source": [
    "print(count.get('b'))"
   ]
  },
  {
   "cell_type": "code",
   "execution_count": 42,
   "metadata": {},
   "outputs": [
    {
     "name": "stdout",
     "output_type": "stream",
     "text": [
      "2\n"
     ]
    }
   ],
   "source": [
    "print(count.get('a'))"
   ]
  },
  {
   "cell_type": "code",
   "execution_count": 43,
   "metadata": {},
   "outputs": [
    {
     "ename": "KeyError",
     "evalue": "'b'",
     "output_type": "error",
     "traceback": [
      "\u001b[0;31m---------------------------------------------------------------------------\u001b[0m",
      "\u001b[0;31mKeyError\u001b[0m                                  Traceback (most recent call last)",
      "\u001b[0;32m<ipython-input-43-78b73654927a>\u001b[0m in \u001b[0;36m<module>\u001b[0;34m\u001b[0m\n\u001b[0;32m----> 1\u001b[0;31m \u001b[0mcount\u001b[0m\u001b[0;34m[\u001b[0m\u001b[0;34m'b'\u001b[0m\u001b[0;34m]\u001b[0m\u001b[0;34m\u001b[0m\u001b[0;34m\u001b[0m\u001b[0m\n\u001b[0m",
      "\u001b[0;31mKeyError\u001b[0m: 'b'"
     ]
    }
   ],
   "source": [
    "count['b']"
   ]
  },
  {
   "cell_type": "code",
   "execution_count": 45,
   "metadata": {},
   "outputs": [
    {
     "name": "stdout",
     "output_type": "stream",
     "text": [
      "please input a name: zhangsan\n",
      "please inout a score: 100\n",
      "zhangsan's score is 100 \n"
     ]
    }
   ],
   "source": [
    "student = dict.fromkeys(['name','scores'])\n",
    "student['name'] = input('please input a name: ')\n",
    "student['score'] = int(input('please inout a score: '))\n",
    "print(\"{}'s score is {} \".format(student['name'], student['score']))"
   ]
  },
  {
   "cell_type": "code",
   "execution_count": 3,
   "metadata": {},
   "outputs": [],
   "source": [
    "first_names = ['San', 'Si', 'Wu', 'Liu', 'Jia', 'Yi', 'Bing', 'Ding']\n",
    "last_names = ['Zhao', 'Qian', 'Sun', 'Li', 'Zhou', 'Wu', 'Zheng', 'Wang']\n",
    "names = list()\n",
    "for i in first_names:\n",
    "    for j in last_names:\n",
    "        names.append(j+i)\n"
   ]
  },
  {
   "cell_type": "code",
   "execution_count": 4,
   "metadata": {},
   "outputs": [
    {
     "name": "stdout",
     "output_type": "stream",
     "text": [
      "['ZhaoSan', 'QianSan', 'SunSan', 'LiSan', 'ZhouSan', 'WuSan', 'ZhengSan', 'WangSan', 'ZhaoSi', 'QianSi', 'SunSi', 'LiSi', 'ZhouSi', 'WuSi', 'ZhengSi', 'WangSi', 'ZhaoWu', 'QianWu', 'SunWu', 'LiWu', 'ZhouWu', 'WuWu', 'ZhengWu', 'WangWu', 'ZhaoLiu', 'QianLiu', 'SunLiu', 'LiLiu', 'ZhouLiu', 'WuLiu', 'ZhengLiu', 'WangLiu', 'ZhaoJia', 'QianJia', 'SunJia', 'LiJia', 'ZhouJia', 'WuJia', 'ZhengJia', 'WangJia', 'ZhaoYi', 'QianYi', 'SunYi', 'LiYi', 'ZhouYi', 'WuYi', 'ZhengYi', 'WangYi', 'ZhaoBing', 'QianBing', 'SunBing', 'LiBing', 'ZhouBing', 'WuBing', 'ZhengBing', 'WangBing', 'ZhaoDing', 'QianDing', 'SunDing', 'LiDing', 'ZhouDing', 'WuDing', 'ZhengDing', 'WangDing']\n"
     ]
    }
   ],
   "source": [
    "print(names)"
   ]
  },
  {
   "cell_type": "code",
   "execution_count": 5,
   "metadata": {},
   "outputs": [
    {
     "data": {
      "text/plain": [
       "64"
      ]
     },
     "execution_count": 5,
     "metadata": {},
     "output_type": "execute_result"
    }
   ],
   "source": [
    "len(names)"
   ]
  },
  {
   "cell_type": "code",
   "execution_count": 6,
   "metadata": {},
   "outputs": [
    {
     "data": {
      "text/plain": [
       "'WangYi'"
      ]
     },
     "execution_count": 6,
     "metadata": {},
     "output_type": "execute_result"
    }
   ],
   "source": [
    "import random\n",
    "random.choice(names)"
   ]
  },
  {
   "cell_type": "code",
   "execution_count": 7,
   "metadata": {},
   "outputs": [
    {
     "name": "stdout",
     "output_type": "stream",
     "text": [
      "66 84 78 67 67 67 100 33 93 68 100 61 100 50 68 77 100 100 100 73 87 79 48 86 60 76 53 100 100 72 70 51 100 100 77 91 74 81 100 85 65 78 69 83 77 79 62 100 58 70 100 50 82 69 97 60 68 91 34 87 88 81 52 43 53 50 99 88 83 66 52 54 100 65 65 79 89 75 84 100 80 99 92 84 91 91 62 85 83 58 72 100 95 66 82 94 73 66 62 89 "
     ]
    }
   ],
   "source": [
    "import math\n",
    "for i in range(0,100):\n",
    "    score = math.ceil(random.gauss(75,20))\n",
    "    if score > 100: score = 100\n",
    "    elif score < 0: score = 0\n",
    "    print(score,end=' ')\n"
   ]
  },
  {
   "cell_type": "code",
   "execution_count": 8,
   "metadata": {},
   "outputs": [
    {
     "name": "stdout",
     "output_type": "stream",
     "text": [
      "{'LiBing': {'Math': 73, 'Physics': 41, 'Python': 76},\n",
      " 'LiDing': {'Math': 84, 'Physics': 100, 'Python': 78},\n",
      " 'LiJia': {'Math': 100, 'Physics': 98, 'Python': 100},\n",
      " 'LiLiu': {'Math': 48, 'Physics': 100, 'Python': 58},\n",
      " 'LiSan': {'Math': 30, 'Physics': 99, 'Python': 85},\n",
      " 'LiSi': {'Math': 86, 'Physics': 100, 'Python': 69},\n",
      " 'LiWu': {'Math': 77, 'Physics': 68, 'Python': 100},\n",
      " 'LiYi': {'Math': 100, 'Physics': 85, 'Python': 90},\n",
      " 'QianBing': {'Math': 99, 'Physics': 71, 'Python': 87},\n",
      " 'QianDing': {'Math': 95, 'Physics': 69, 'Python': 98},\n",
      " 'QianJia': {'Math': 42, 'Physics': 96, 'Python': 76},\n",
      " 'QianLiu': {'Math': 91, 'Physics': 64, 'Python': 81},\n",
      " 'QianSan': {'Math': 100, 'Physics': 63, 'Python': 74},\n",
      " 'QianSi': {'Math': 45, 'Physics': 77, 'Python': 91},\n",
      " 'QianWu': {'Math': 67, 'Physics': 91, 'Python': 100},\n",
      " 'QianYi': {'Math': 66, 'Physics': 100, 'Python': 89},\n",
      " 'SunBing': {'Math': 90, 'Physics': 69, 'Python': 79},\n",
      " 'SunDing': {'Math': 73, 'Physics': 97, 'Python': 57},\n",
      " 'SunJia': {'Math': 66, 'Physics': 57, 'Python': 86},\n",
      " 'SunLiu': {'Math': 69, 'Physics': 60, 'Python': 71},\n",
      " 'SunSan': {'Math': 71, 'Physics': 69, 'Python': 71},\n",
      " 'SunSi': {'Math': 69, 'Physics': 75, 'Python': 40},\n",
      " 'SunWu': {'Math': 73, 'Physics': 81, 'Python': 77},\n",
      " 'SunYi': {'Math': 67, 'Physics': 98, 'Python': 92},\n",
      " 'WangBing': {'Math': 57, 'Physics': 68, 'Python': 64},\n",
      " 'WangDing': {'Math': 100, 'Physics': 63, 'Python': 64},\n",
      " 'WangJia': {'Math': 87, 'Physics': 87, 'Python': 67},\n",
      " 'WangLiu': {'Math': 45, 'Physics': 81, 'Python': 36},\n",
      " 'WangSan': {'Math': 69, 'Physics': 80, 'Python': 60},\n",
      " 'WangSi': {'Math': 96, 'Physics': 95, 'Python': 75},\n",
      " 'WangWu': {'Math': 45, 'Physics': 78, 'Python': 31},\n",
      " 'WangYi': {'Math': 100, 'Physics': 83, 'Python': 90},\n",
      " 'WuBing': {'Math': 46, 'Physics': 89, 'Python': 71},\n",
      " 'WuDing': {'Math': 47, 'Physics': 76, 'Python': 74},\n",
      " 'WuJia': {'Math': 53, 'Physics': 99, 'Python': 47},\n",
      " 'WuLiu': {'Math': 95, 'Physics': 76, 'Python': 79},\n",
      " 'WuSan': {'Math': 39, 'Physics': 78, 'Python': 73},\n",
      " 'WuSi': {'Math': 84, 'Physics': 68, 'Python': 69},\n",
      " 'WuWu': {'Math': 93, 'Physics': 98, 'Python': 100},\n",
      " 'WuYi': {'Math': 82, 'Physics': 100, 'Python': 100},\n",
      " 'ZhaoBing': {'Math': 75, 'Physics': 74, 'Python': 64},\n",
      " 'ZhaoDing': {'Math': 50, 'Physics': 68, 'Python': 75},\n",
      " 'ZhaoJia': {'Math': 78, 'Physics': 82, 'Python': 83},\n",
      " 'ZhaoLiu': {'Math': 100, 'Physics': 82, 'Python': 83},\n",
      " 'ZhaoSan': {'Math': 49, 'Physics': 71, 'Python': 87},\n",
      " 'ZhaoSi': {'Math': 89, 'Physics': 83, 'Python': 75},\n",
      " 'ZhaoWu': {'Math': 85, 'Physics': 76, 'Python': 25},\n",
      " 'ZhaoYi': {'Math': 84, 'Physics': 100, 'Python': 56},\n",
      " 'ZhengBing': {'Math': 90, 'Physics': 61, 'Python': 44},\n",
      " 'ZhengDing': {'Math': 66, 'Physics': 86, 'Python': 62},\n",
      " 'ZhengJia': {'Math': 100, 'Physics': 79, 'Python': 100},\n",
      " 'ZhengLiu': {'Math': 15, 'Physics': 91, 'Python': 100},\n",
      " 'ZhengSan': {'Math': 62, 'Physics': 66, 'Python': 81},\n",
      " 'ZhengSi': {'Math': 67, 'Physics': 75, 'Python': 81},\n",
      " 'ZhengWu': {'Math': 100, 'Physics': 98, 'Python': 57},\n",
      " 'ZhengYi': {'Math': 100, 'Physics': 86, 'Python': 100},\n",
      " 'ZhouBing': {'Math': 71, 'Physics': 98, 'Python': 100},\n",
      " 'ZhouDing': {'Math': 77, 'Physics': 84, 'Python': 55},\n",
      " 'ZhouJia': {'Math': 64, 'Physics': 45, 'Python': 52},\n",
      " 'ZhouLiu': {'Math': 67, 'Physics': 49, 'Python': 55},\n",
      " 'ZhouSan': {'Math': 84, 'Physics': 81, 'Python': 42},\n",
      " 'ZhouSi': {'Math': 88, 'Physics': 96, 'Python': 87},\n",
      " 'ZhouWu': {'Math': 82, 'Physics': 88, 'Python': 100},\n",
      " 'ZhouYi': {'Math': 98, 'Physics': 65, 'Python': 90}}\n"
     ]
    }
   ],
   "source": [
    "import pprint\n",
    "def get_random_score():\n",
    "    score = math.ceil(random.gauss(75,20))\n",
    "    if score > 100: score = 100\n",
    "    elif score < 0: score = 0\n",
    "    return score\n",
    "\n",
    "\n",
    "score_db = {}\n",
    "score_template = {}.fromkeys(['Physics', 'Math', 'Python'])\n",
    "for name in names:\n",
    "    scores = score_template.copy()\n",
    "    scores['Physics'] = get_random_score()\n",
    "    scores['Math'] = get_random_score()\n",
    "    scores['Python'] = get_random_score()\n",
    "    score_db[name] = scores\n",
    "\n",
    "pprint.pprint(score_db)"
   ]
  },
  {
   "cell_type": "code",
   "execution_count": 9,
   "metadata": {},
   "outputs": [
    {
     "name": "stdout",
     "output_type": "stream",
     "text": [
      "7\n"
     ]
    }
   ],
   "source": [
    "def add(a,b):\n",
    "    return a + b\n",
    "print(add(3,4))"
   ]
  },
  {
   "cell_type": "code",
   "execution_count": 10,
   "metadata": {},
   "outputs": [
    {
     "name": "stdout",
     "output_type": "stream",
     "text": [
      "Name\tPhysics\tMath\tPython\tTotal\t\n",
      "ZhaoSan\t71\t49\t87\t207\tQianSan\t63\t100\t74\t237\tSunSan\t69\t71\t71\t211\tLiSan\t99\t30\t85\t214\tZhouSan\t81\t84\t42\t207\tWuSan\t78\t39\t73\t190\tZhengSan\t66\t62\t81\t209\tWangSan\t80\t69\t60\t209\tZhaoSi\t83\t89\t75\t247\tQianSi\t77\t45\t91\t213\tSunSi\t75\t69\t40\t184\tLiSi\t100\t86\t69\t255\tZhouSi\t96\t88\t87\t271\tWuSi\t68\t84\t69\t221\tZhengSi\t75\t67\t81\t223\tWangSi\t95\t96\t75\t266\tZhaoWu\t76\t85\t25\t186\tQianWu\t91\t67\t100\t258\tSunWu\t81\t73\t77\t231\tLiWu\t68\t77\t100\t245\tZhouWu\t88\t82\t100\t270\tWuWu\t98\t93\t100\t291\tZhengWu\t98\t100\t57\t255\tWangWu\t78\t45\t31\t154\tZhaoLiu\t82\t100\t83\t265\tQianLiu\t64\t91\t81\t236\tSunLiu\t60\t69\t71\t200\tLiLiu\t100\t48\t58\t206\tZhouLiu\t49\t67\t55\t171\tWuLiu\t76\t95\t79\t250\tZhengLiu\t91\t15\t100\t206\tWangLiu\t81\t45\t36\t162\tZhaoJia\t82\t78\t83\t243\tQianJia\t96\t42\t76\t214\tSunJia\t57\t66\t86\t209\tLiJia\t98\t100\t100\t298\tZhouJia\t45\t64\t52\t161\tWuJia\t99\t53\t47\t199\tZhengJia\t79\t100\t100\t279\tWangJia\t87\t87\t67\t241\tZhaoYi\t100\t84\t56\t240\tQianYi\t100\t66\t89\t255\tSunYi\t98\t67\t92\t257\tLiYi\t85\t100\t90\t275\tZhouYi\t65\t98\t90\t253\tWuYi\t100\t82\t100\t282\tZhengYi\t86\t100\t100\t286\tWangYi\t83\t100\t90\t273\tZhaoBing\t74\t75\t64\t213\tQianBing\t71\t99\t87\t257\tSunBing\t69\t90\t79\t238\tLiBing\t41\t73\t76\t190\tZhouBing\t98\t71\t100\t269\tWuBing\t89\t46\t71\t206\tZhengBing\t61\t90\t44\t195\tWangBing\t68\t57\t64\t189\tZhaoDing\t68\t50\t75\t193\tQianDing\t69\t95\t98\t262\tSunDing\t97\t73\t57\t227\tLiDing\t100\t84\t78\t262\tZhouDing\t84\t77\t55\t216\tWuDing\t76\t47\t74\t197\tZhengDing\t86\t66\t62\t214\tWangDing\t63\t100\t64\t227\t"
     ]
    }
   ],
   "source": [
    "print('Name\\tPhysics\\tMath\\tPython\\tTotal\\t')\n",
    "for name in score_db.keys():\n",
    "    print(name,end='\\t')\n",
    "    print(score_db[name]['Physics'],end='\\t')\n",
    "    print(score_db[name]['Math'],end='\\t')\n",
    "    print(score_db[name]['Python'],end='\\t')\n",
    "    print(score_db[name]['Python'] +\\\n",
    "          score_db[name]['Physics'] + score_db[name]['Math'],end='\\t')"
   ]
  },
  {
   "cell_type": "code",
   "execution_count": null,
   "metadata": {},
   "outputs": [],
   "source": [
    "name = input('please input a name ')\n",
    "if name in score_db:\n",
    "    print('Physics:', score_db[name]['Physics'],end=' ')\n",
    "    print('Math:', score_db[name]['Math'],end=' ')\n",
    "    print('Python:', score_db[name]['Python'],end=' ')\n",
    "    print('Total:', score_db[name]['Python'] +\\\n",
    "          score_db[name]['Physics'] + score_db[name]['Math'],end=' ')\n",
    "else:\n",
    "    print('Not found.')"
   ]
  },
  {
   "cell_type": "code",
   "execution_count": 14,
   "metadata": {},
   "outputs": [
    {
     "name": "stdout",
     "output_type": "stream",
     "text": [
      "[('WangWu', {'Physics': 78, 'Math': 45, 'Python': 31}), ('ZhouJia', {'Physics': 45, 'Math': 64, 'Python': 52}), ('WangLiu', {'Physics': 81, 'Math': 45, 'Python': 36}), ('ZhouLiu', {'Physics': 49, 'Math': 67, 'Python': 55}), ('SunSi', {'Physics': 75, 'Math': 69, 'Python': 40}), ('ZhaoWu', {'Physics': 76, 'Math': 85, 'Python': 25}), ('WangBing', {'Physics': 68, 'Math': 57, 'Python': 64}), ('WuSan', {'Physics': 78, 'Math': 39, 'Python': 73}), ('LiBing', {'Physics': 41, 'Math': 73, 'Python': 76}), ('ZhaoDing', {'Physics': 68, 'Math': 50, 'Python': 75}), ('ZhengBing', {'Physics': 61, 'Math': 90, 'Python': 44}), ('WuDing', {'Physics': 76, 'Math': 47, 'Python': 74}), ('WuJia', {'Physics': 99, 'Math': 53, 'Python': 47}), ('SunLiu', {'Physics': 60, 'Math': 69, 'Python': 71}), ('LiLiu', {'Physics': 100, 'Math': 48, 'Python': 58}), ('ZhengLiu', {'Physics': 91, 'Math': 15, 'Python': 100}), ('WuBing', {'Physics': 89, 'Math': 46, 'Python': 71}), ('ZhaoSan', {'Physics': 71, 'Math': 49, 'Python': 87}), ('ZhouSan', {'Physics': 81, 'Math': 84, 'Python': 42}), ('ZhengSan', {'Physics': 66, 'Math': 62, 'Python': 81}), ('WangSan', {'Physics': 80, 'Math': 69, 'Python': 60}), ('SunJia', {'Physics': 57, 'Math': 66, 'Python': 86}), ('SunSan', {'Physics': 69, 'Math': 71, 'Python': 71}), ('QianSi', {'Physics': 77, 'Math': 45, 'Python': 91}), ('ZhaoBing', {'Physics': 74, 'Math': 75, 'Python': 64}), ('LiSan', {'Physics': 99, 'Math': 30, 'Python': 85}), ('QianJia', {'Physics': 96, 'Math': 42, 'Python': 76}), ('ZhengDing', {'Physics': 86, 'Math': 66, 'Python': 62}), ('ZhouDing', {'Physics': 84, 'Math': 77, 'Python': 55}), ('WuSi', {'Physics': 68, 'Math': 84, 'Python': 69}), ('ZhengSi', {'Physics': 75, 'Math': 67, 'Python': 81}), ('SunDing', {'Physics': 97, 'Math': 73, 'Python': 57}), ('WangDing', {'Physics': 63, 'Math': 100, 'Python': 64}), ('SunWu', {'Physics': 81, 'Math': 73, 'Python': 77}), ('QianLiu', {'Physics': 64, 'Math': 91, 'Python': 81}), ('QianSan', {'Physics': 63, 'Math': 100, 'Python': 74}), ('SunBing', {'Physics': 69, 'Math': 90, 'Python': 79}), ('ZhaoYi', {'Physics': 100, 'Math': 84, 'Python': 56}), ('WangJia', {'Physics': 87, 'Math': 87, 'Python': 67}), ('ZhaoJia', {'Physics': 82, 'Math': 78, 'Python': 83}), ('LiWu', {'Physics': 68, 'Math': 77, 'Python': 100}), ('ZhaoSi', {'Physics': 83, 'Math': 89, 'Python': 75}), ('WuLiu', {'Physics': 76, 'Math': 95, 'Python': 79}), ('ZhouYi', {'Physics': 65, 'Math': 98, 'Python': 90}), ('LiSi', {'Physics': 100, 'Math': 86, 'Python': 69}), ('ZhengWu', {'Physics': 98, 'Math': 100, 'Python': 57}), ('QianYi', {'Physics': 100, 'Math': 66, 'Python': 89}), ('SunYi', {'Physics': 98, 'Math': 67, 'Python': 92}), ('QianBing', {'Physics': 71, 'Math': 99, 'Python': 87}), ('QianWu', {'Physics': 91, 'Math': 67, 'Python': 100}), ('QianDing', {'Physics': 69, 'Math': 95, 'Python': 98}), ('LiDing', {'Physics': 100, 'Math': 84, 'Python': 78}), ('ZhaoLiu', {'Physics': 82, 'Math': 100, 'Python': 83}), ('WangSi', {'Physics': 95, 'Math': 96, 'Python': 75}), ('ZhouBing', {'Physics': 98, 'Math': 71, 'Python': 100}), ('ZhouWu', {'Physics': 88, 'Math': 82, 'Python': 100}), ('ZhouSi', {'Physics': 96, 'Math': 88, 'Python': 87}), ('WangYi', {'Physics': 83, 'Math': 100, 'Python': 90}), ('LiYi', {'Physics': 85, 'Math': 100, 'Python': 90}), ('ZhengJia', {'Physics': 79, 'Math': 100, 'Python': 100}), ('WuYi', {'Physics': 100, 'Math': 82, 'Python': 100}), ('ZhengYi', {'Physics': 86, 'Math': 100, 'Python': 100}), ('WuWu', {'Physics': 98, 'Math': 93, 'Python': 100}), ('LiJia', {'Physics': 98, 'Math': 100, 'Python': 100})]\n"
     ]
    }
   ],
   "source": [
    "def total(item):\n",
    "    return item[1]['Physics'] + item[1]['Math'] + item[1]['Python']\n",
    "\n",
    "items = score_db.items()\n",
    "print(sorted(items,key=total))"
   ]
  },
  {
   "cell_type": "code",
   "execution_count": null,
   "metadata": {},
   "outputs": [],
   "source": []
  },
  {
   "cell_type": "code",
   "execution_count": null,
   "metadata": {},
   "outputs": [],
   "source": []
  }
 ],
 "metadata": {
  "kernelspec": {
   "display_name": "Python 3",
   "language": "python",
   "name": "python3"
  },
  "language_info": {
   "codemirror_mode": {
    "name": "ipython",
    "version": 3
   },
   "file_extension": ".py",
   "mimetype": "text/x-python",
   "name": "python",
   "nbconvert_exporter": "python",
   "pygments_lexer": "ipython3",
   "version": "3.7.4"
  }
 },
 "nbformat": 4,
 "nbformat_minor": 2
}
